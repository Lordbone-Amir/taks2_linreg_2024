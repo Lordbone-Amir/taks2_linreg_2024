{
 "cells": [
  {
   "cell_type": "markdown",
   "metadata": {},
   "source": [
    "# ДЗ Линейная регрессия\n",
    "\n",
    "В данном задании мы рассмотрим набор данных об учащихся, собранный в 2006 году в одной из школ Португалии. Данные представлены в неудобном для машинного обучения виде, и содержат мусор. Ваша задача &mdash; привести их к надлежащему виду и обучить на них простую модель.\n",
    "\n",
    "Данные состоят из четырех файлов:\n",
    "- data.csv &mdash; основная таблица с информацией о учащихся\n",
    "- scores.csv &mdash; список финальных оценок по одному из предметов (20-балльная шкала переведенная в проценты)\n",
    "- attendance.csv &mdash; таблица посещений занятий по этому предмету\n",
    "- school_support.txt &mdash; список учащихся, которым оказывается финансовая поддержка\n",
    "\n",
    "Ваша задача &mdash; построить модель для предсказания финальных оценок исходя из всех остальных данных и проверить качество ее работы с помощью кросс-валидации. В качестве алгоритма мы будем использовать линейную регрессию, а качество будем измерять по метрике RMSE.\n",
    "\n",
    "Расшифровка столбцов в data.csv для справки:\n",
    "- age &mdash; возраст\n",
    "- Medu &mdash; уровень образования матери (по некоторой условной шкале)\n",
    "- Fedu &mdash; уровень образования отца (по некоторой условной шкале)\n",
    "- traveltime &mdash; время в пути до школы (1 – < 15 мин., 2 – от 15 до 30 мин., 3 – от 30 мин. to 1 ч.\n",
    "или 4 – > 1 ч.)\n",
    "- studytime &mdash; время, затрачиваемое на занятия вне школы (1 – < 2 ч., 2 – от 2 до 5 ч., 3 – от 5 до 10 ч. или 4 – > 10 ч.)\n",
    "- famrel &mdash; насколько хорошие отношения в семье у учащегося (по некоторой условной шкале)\n",
    "- freetime &mdash; количество свободного времени вне школы (по некоторой условной шкале)\n",
    "- goout &mdash; время, затрачиваемое на общение с друзьями (по некоторой условной шкале)\n",
    "- Dalc &mdash; количество употребления алкоголя в учебные дни (по некоторой условной шкале)\n",
    "- Walc &mdash; количество употребления алкоголя в неучебные дни (по некоторой условной шкале)\n",
    "- health &mdash; уровень здоровья (по некоторой условной шкале)\n",
    "- sex_M &mdash; пол: мужской (1) или женский (0)\n",
    "- address_U &mdash; живет ли учащийся в городе (1) или в пригороде (0)\n",
    "- famsize_LE3 &mdash; размер семьи: не больше 3 человек (1) или больше (0)\n",
    "- Pstatus_T &mdash; живут ли родители вместе (1) или отдельно (0)\n",
    "- nursery &mdash; посещал ли учащийся детский сад\n",
    "- plans_university &mdash; планирует ли учащийся поступать в университет (-1 или 1)\n",
    "- past_failures &mdash; количество неудовлетворительных оценок по другим предметам ранее (от 0 до 4)\n",
    "\n",
    "*Примечание. Несколько признаков в данных содержат ошибки/проблемы/некорректности. Эти проблемы нужно исправить. Для\n",
    "проверки &mdash; всего в данных таких проблем четыре.*"
   ]
  },
  {
   "cell_type": "markdown",
   "metadata": {},
   "source": [
    "### Задача 1: сломанный признак (а может и не один)\n",
    "__(1 балл)__\n",
    "\n",
    "Загрузите таблицу data.csv.\n",
    "\n",
    "Найдите в данных сломанный признак (он не соответствует описанию) и исправьте его."
   ]
  },
  {
   "cell_type": "code",
   "execution_count": 60,
   "metadata": {
    "collapsed": true
   },
   "outputs": [],
   "source": [
    "import pandas as pd\n",
    "\n",
    "def make_to_num(time):\n",
    "    time = int(time)\n",
    "    if time <= 4:\n",
    "        return time\n",
    "    if time < 15:\n",
    "        return 1\n",
    "    if time < 30:\n",
    "        return 2\n",
    "    if time < 60:\n",
    "        return 3\n",
    "    return 4\n",
    "\n",
    "def sign(num):\n",
    "    num = int(num)\n",
    "    if num < 0:\n",
    "        return -1\n",
    "    if num > 0:\n",
    "        return 1\n",
    "    return 0\n",
    "\n",
    "# Чтение данных\n",
    "data = pd.read_csv('data.csv')\n",
    "\n",
    "# Переименование последнего столбца и добавление нового\n",
    "data.columns = list(data.columns[:-1]) + ['plans_university']\n",
    "data['past_failures'] = 0\n",
    "\n",
    "# Применение преобразований к данным\n",
    "last_col = data.columns[-2]  # предпоследний столбец (plans_university)\n",
    "first_col = data.columns[0]  # первый столбец\n",
    "third_col = data.columns[3]  # четвертый столбец (индекс 3)\n",
    "\n",
    "# Преобразования для каждой строки\n",
    "for i in range(len(data)):\n",
    "    # Обработка последнего столбца\n",
    "    val = int(data.loc[i, last_col])\n",
    "    data.loc[i, last_col] = sign(val)\n",
    "    data.loc[i, 'past_failures'] = val - 10 * sign(val)\n",
    "    \n",
    "    # Обработка первого столбца\n",
    "    if int(data.loc[i, first_col]) > 1000:\n",
    "        data.loc[i, first_col] = 2006 - int(data.loc[i, first_col])\n",
    "    \n",
    "    # Обработка четвертого столбца\n",
    "    data.loc[i, third_col] = make_to_num(data.loc[i, third_col])\n",
    "\n",
    "# Запись данных\n",
    "data.to_csv('new_data.csv', index=False, encoding='utf-8')"
   ]
  },
  {
   "cell_type": "markdown",
   "metadata": {},
   "source": [
    "### Задача 2: пропуски в данных \n",
    "__(1 балл)__\n",
    "\n",
    "Проверьте, есть ли в данных пропуски (значения NaN). Замените все пропущенные значения на среднее значение этого признака по столбцу.\n",
    "\n",
    "*Hint: изучите в pandas функции loc, isnull, а также передачу булевых массивов в качестве индексов.*"
   ]
  },
  {
   "cell_type": "code",
   "execution_count": 61,
   "metadata": {
    "collapsed": true
   },
   "outputs": [
    {
     "name": "stderr",
     "output_type": "stream",
     "text": [
      "C:\\Users\\user\\AppData\\Local\\Temp\\ipykernel_21100\\460677872.py:32: DeprecationWarning: Converting `np.inexact` or `np.floating` to a dtype is deprecated. The current result is `float64` which is not strictly correct.\n",
      "  if data[column].dtype in [np.number]:  # только числовые столбцы\n",
      "C:\\Users\\user\\AppData\\Local\\Temp\\ipykernel_21100\\460677872.py:32: DeprecationWarning: Converting `np.inexact` or `np.floating` to a dtype is deprecated. The current result is `float64` which is not strictly correct.\n",
      "  if data[column].dtype in [np.number]:  # только числовые столбцы\n",
      "C:\\Users\\user\\AppData\\Local\\Temp\\ipykernel_21100\\460677872.py:32: DeprecationWarning: Converting `np.inexact` or `np.floating` to a dtype is deprecated. The current result is `float64` which is not strictly correct.\n",
      "  if data[column].dtype in [np.number]:  # только числовые столбцы\n",
      "C:\\Users\\user\\AppData\\Local\\Temp\\ipykernel_21100\\460677872.py:32: DeprecationWarning: Converting `np.inexact` or `np.floating` to a dtype is deprecated. The current result is `float64` which is not strictly correct.\n",
      "  if data[column].dtype in [np.number]:  # только числовые столбцы\n"
     ]
    }
   ],
   "source": [
    "import pandas as pd\n",
    "import numpy as np\n",
    "\n",
    "def make_to_num(time):\n",
    "    time = int(time)\n",
    "    if time <= 4:\n",
    "        return time\n",
    "    if time < 15:\n",
    "        return 1\n",
    "    if time < 30:\n",
    "        return 2\n",
    "    if time < 60:\n",
    "        return 3\n",
    "    return 4\n",
    "\n",
    "def sign(num):\n",
    "    num = int(num)\n",
    "    if num < 0:\n",
    "        return -1\n",
    "    if num > 0:\n",
    "        return 1\n",
    "    return 0\n",
    "\n",
    "# Чтение данных\n",
    "data = pd.read_csv('data.csv')\n",
    "\n",
    "# ЗАМЕНА NaN НА СРЕДНИЕ ЗНАЧЕНИЯ\n",
    "# print(\"Пропуски до замены:\")\n",
    "# print(data.isnull().sum())\n",
    "\n",
    "for column in data.columns:\n",
    "    if data[column].dtype in [np.number]:  # только числовые столбцы\n",
    "        column_mean = data[column].mean()\n",
    "        data.loc[data[column].isnull(), column] = column_mean\n",
    "\n",
    "# print(\"Пропуски после замены:\")\n",
    "# print(data.isnull().sum())\n",
    "\n",
    "# Переименование последнего столбца и добавление нового\n",
    "data.columns = list(data.columns[:-1]) + ['plans_university']\n",
    "data['past_failures'] = 0\n",
    "\n",
    "# Применение преобразований к данным\n",
    "last_col = data.columns[-2]  # предпоследний столбце (plans_university)\n",
    "first_col = data.columns[0]  # первый столбец\n",
    "third_col = data.columns[3]  # четвертый столбец (индекс 3)\n",
    "\n",
    "# Преобразования для каждой строки\n",
    "for i in range(len(data)):\n",
    "    # Обработка последнего столбца\n",
    "    val = int(data.loc[i, last_col])\n",
    "    data.loc[i, last_col] = sign(val)\n",
    "    data.loc[i, 'past_failures'] = val - 10 * sign(val)\n",
    "    \n",
    "    # Обработка первого столбца\n",
    "    if int(data.loc[i, first_col]) > 1000:\n",
    "        data.loc[i, first_col] = 2006 - int(data.loc[i, first_col])\n",
    "    \n",
    "    # Обработка четвертого столбца\n",
    "    data.loc[i, third_col] = make_to_num(data.loc[i, third_col])\n",
    "\n",
    "# Запись данных\n",
    "data.to_csv('new_data.csv', index=False, encoding='utf-8')"
   ]
  },
  {
   "cell_type": "markdown",
   "metadata": {},
   "source": [
    "### Задача 3: кросс-валидация для исходных данных\n",
    "__(1 балл)__\n",
    "\n",
    "Загрузите файл scores.csv и протестируйте, как линейная регрессия предсказывает ответ сейчас (с помощью кросс-валидации).\n",
    "\n",
    "*Hint: воспользуйтесь sklearn.linear_model и sklearn.model_selection.*"
   ]
  },
  {
   "cell_type": "code",
   "execution_count": 62,
   "metadata": {
    "collapsed": true
   },
   "outputs": [
    {
     "name": "stdout",
     "output_type": "stream",
     "text": [
      "RMSE модели: 16.6583658569\n"
     ]
    }
   ],
   "source": [
    "import pandas as pd\n",
    "import numpy as np\n",
    "from sklearn.linear_model import LinearRegression       \n",
    "from sklearn.model_selection import train_test_split\n",
    "from sklearn.metrics import root_mean_squared_error\n",
    "\n",
    "data = pd.read_csv('new_data.csv')\n",
    "res = pd.read_csv('scores.csv')\n",
    "\n",
    "X_train, X_test, y_train, y_test = train_test_split(data, res, test_size=0.3, random_state=42)\n",
    "model = LinearRegression()  # Создание экземпляра модели линейной регрессии\n",
    "model.fit(X_train, y_train) # Обучение модели на обучающих данных\n",
    "y_pred = model.predict(X_test)  # Прогнозирование цен на тестовых данных\n",
    "rmse = root_mean_squared_error(y_test, y_pred)  # Расчет RMSE \n",
    "print(f'RMSE модели: {rmse:.10f}')           # Вывод значения ошибки\n"
   ]
  },
  {
   "cell_type": "markdown",
   "metadata": {},
   "source": [
    "### Задача 4: нормализация данных\n",
    "__(1 балл)__\n",
    "\n",
    "Нормализуйте данные и повторите предыдущий пункт\n",
    "\n",
    "*Hint: воспользуйтесь sklearn.linear_model и sklearn.model_selection.*"
   ]
  },
  {
   "cell_type": "code",
   "execution_count": 63,
   "metadata": {},
   "outputs": [
    {
     "name": "stdout",
     "output_type": "stream",
     "text": [
      "RMSE модели: 16.6583658569\n"
     ]
    }
   ],
   "source": [
    "import pandas as pd\n",
    "import numpy as np\n",
    "from sklearn.linear_model import LinearRegression       \n",
    "from sklearn.model_selection import train_test_split\n",
    "from sklearn.metrics import root_mean_squared_error\n",
    "from sklearn.preprocessing import StandardScaler\n",
    "\n",
    "data = pd.read_csv('new_data.csv')\n",
    "scaler = StandardScaler()\n",
    "data_scaled = scaler.fit_transform(data)\n",
    "data = pd.DataFrame(data_scaled, columns=data.columns)\n",
    "res = pd.read_csv('scores.csv')\n",
    "\n",
    "\n",
    "X_train, X_test, y_train, y_test = train_test_split(data, res, test_size=0.3, random_state=42)\n",
    "model = LinearRegression()  # Создание экземпляра модели линейной регрессии\n",
    "model.fit(X_train, y_train) # Обучение модели на обучающих данных\n",
    "y_pred = model.predict(X_test)  # Прогнозирование цен на тестовых данных\n",
    "rmse = root_mean_squared_error(y_test, y_pred)  # Расчет RMSE \n",
    "print(f'RMSE модели: {rmse:.10f}')           # Вывод значения ошибки\n"
   ]
  },
  {
   "cell_type": "markdown",
   "metadata": {},
   "source": [
    "### Задача 5: полные данные\n",
    "__(3 балла)__\n",
    "\n",
    "Воспользуйтесь файлами attendance.csv и school_support.txt для того, чтобы добавить новые признаки в данные. Желательно по максимуму использовать возможности pandas для упрощения преобразований.\n",
    "\n",
    "school_suport число в строке значит что i-ый школьник из исходной таблицы получал мат помощь"
   ]
  },
  {
   "cell_type": "code",
   "execution_count": 64,
   "metadata": {
    "collapsed": true
   },
   "outputs": [
    {
     "name": "stdout",
     "output_type": "stream",
     "text": [
      "RMSE модели: 16.4719875071\n"
     ]
    }
   ],
   "source": [
    "import pandas as pd\n",
    "import numpy as np\n",
    "from sklearn.linear_model import LinearRegression       \n",
    "from sklearn.model_selection import train_test_split\n",
    "from sklearn.metrics import root_mean_squared_error\n",
    "from sklearn.preprocessing import StandardScaler\n",
    "\n",
    "data = pd.read_csv('new_data.csv')\n",
    "atten = pd.read_csv('attendance.csv')\n",
    "# Считаем количество '+' в каждой строке\n",
    "atten_counts = atten.apply(lambda row: str(row).count('+'), axis=1)\n",
    "# Добавляем как новый столбец\n",
    "data['attendance'] = atten_counts\n",
    "indices_list = []\n",
    "with open('school_support.txt', 'r') as file:\n",
    "    indices_list = [int(line.strip()) for line in file]\n",
    "# Создайте новый столбец в DataFrame, проверяя наличие индекса в списке\n",
    "data[\"math_help\"] = np.where(data.index.isin(indices_list), 1, 0)\n",
    "\n",
    "\n",
    "scaler = StandardScaler()\n",
    "data_scaled = scaler.fit_transform(data)\n",
    "data = pd.DataFrame(data_scaled, columns=data.columns)\n",
    "res = pd.read_csv('scores.csv')\n",
    "\n",
    "\n",
    "X_train, X_test, y_train, y_test = train_test_split(data, res, test_size=0.3, random_state=42)\n",
    "model = LinearRegression()  # Создание экземпляра модели линейной регрессии\n",
    "model.fit(X_train, y_train) # Обучение модели на обучающих данных\n",
    "y_pred = model.predict(X_test)  # Прогнозирование цен на тестовых данных\n",
    "rmse = root_mean_squared_error(y_test, y_pred)  # Расчет RMSE \n",
    "print(f'RMSE модели: {rmse:.10f}')           # Вывод значения ошибки\n"
   ]
  },
  {
   "cell_type": "markdown",
   "metadata": {},
   "source": [
    "### Задача 6: борьба с выбросами\n",
    "__(3 балла)__\n",
    "\n",
    "Качество предсказания может ухудшаться, если в данных присутствуют корректные значения признаков (с точки зрения чтения данных и применения методов), но не соответствующие реальным объектам. Например, данные могли быть введены в неверном формате, а потом слишком грубо приведены к общему виду, из-за чего ошибка не была замечена.\n",
    "Попробуем от такого избавиться &mdash; а для этого такие объекты нужно сначала найти. Конечно, нам еще недоступны многие продвинутые способы, но давайте попробуем обойтись простыми.\n",
    "\n",
    "Первый способ это сделать &mdash; посмотреть для каждого признака на распределение его значений и проверить крайние значения на правдоподобность.\n",
    "\n",
    "*Hint 1: используйте функцию DataFrame.hist*\n",
    "\n",
    "*Hint 2: в описании датасета выше есть информация, необходимая для восстановления правильных значений*"
   ]
  },
  {
   "cell_type": "code",
   "execution_count": 65,
   "metadata": {
    "collapsed": true
   },
   "outputs": [
    {
     "name": "stdout",
     "output_type": "stream",
     "text": [
      "RMSE модели: 16.0934315384\n"
     ]
    }
   ],
   "source": [
    "# в качестве явно некоректных значений уберем школьников, которым больше 18 лет. Ведь данные значения означают, что они оставались на второй год, что может ухудшить наше предсказание\n",
    "\n",
    "import pandas as pd\n",
    "import numpy as np\n",
    "from sklearn.linear_model import LinearRegression       \n",
    "from sklearn.model_selection import train_test_split\n",
    "from sklearn.metrics import root_mean_squared_error\n",
    "from sklearn.preprocessing import StandardScaler\n",
    "\n",
    "data = pd.read_csv('new_data.csv')\n",
    "atten = pd.read_csv('attendance.csv')\n",
    "# Считаем количество '+' в каждой строке\n",
    "atten_counts = atten.apply(lambda row: str(row).count('+'), axis=1)\n",
    "# Добавляем как новый столбец\n",
    "data['attendance'] = atten_counts\n",
    "indices_list = []\n",
    "with open('school_support.txt', 'r') as file:\n",
    "    indices_list = [int(line.strip()) for line in file]\n",
    "# Создайте новый столбец в DataFrame, проверяя наличие индекса в списке\n",
    "data[\"math_help\"] = np.where(data.index.isin(indices_list), 1, 0)\n",
    "res = pd.read_csv('scores.csv')\n",
    "res = res[data['age'] <= 18]\n",
    "data = data[data['age'] <= 18]\n",
    "\n",
    "scaler = StandardScaler()\n",
    "data_scaled = scaler.fit_transform(data)\n",
    "data = pd.DataFrame(data_scaled, columns=data.columns)\n",
    "\n",
    "X_train, X_test, y_train, y_test = train_test_split(data, res, test_size=0.3, random_state=42)\n",
    "model = LinearRegression()  # Создание экземпляра модели линейной регрессии\n",
    "model.fit(X_train, y_train) # Обучение модели на обучающих данных\n",
    "y_pred = model.predict(X_test)  # Прогнозирование цен на тестовых данных\n",
    "rmse = root_mean_squared_error(y_test, y_pred)  # Расчет RMSE \n",
    "print(f'RMSE модели: {rmse:.10f}')           # Вывод значения ошибки\n"
   ]
  },
  {
   "cell_type": "markdown",
   "metadata": {},
   "source": [
    "Другой простой способ найти выбросы &mdash; сделать предсказание на всех объектах и посмотреть на объекты с наибольшей ошибкой. Обратите внимание, что просто удалять все объекты с высокой ошибкой нельзя &mdash; это, конечно, хороший способ добиться меньшей ошибки (на данной выборке), но одновременно вы ухудшите обобщающую способность алгоритма. Вместо этого вам нужно найти однозначно ошибочные записи и их исправить.\n",
    "\n",
    "*Hint: возможно, все проблемы уже были найдены первым способом; для проверки &mdash; в сумме здесь нужно исправить 3 проблемы.*"
   ]
  },
  {
   "cell_type": "code",
   "execution_count": 66,
   "metadata": {
    "collapsed": true
   },
   "outputs": [
    {
     "name": "stdout",
     "output_type": "stream",
     "text": [
      "RMSE модели: 10.6823886188\n"
     ]
    },
    {
     "name": "stderr",
     "output_type": "stream",
     "text": [
      "C:\\Users\\user\\AppData\\Local\\Temp\\ipykernel_21100\\272379037.py:35: RuntimeWarning: divide by zero encountered in divide\n",
      "  error_percent = errors / res.values.flatten() * 100\n"
     ]
    }
   ],
   "source": [
    "# в качестве явно некоректных значений уберем школьников, которым больше 18 лет. Ведь данные значения означают, что они оставались на второй год, что может ухудшить наше предсказание\n",
    "\n",
    "import pandas as pd\n",
    "import numpy as np\n",
    "from sklearn.linear_model import LinearRegression       \n",
    "from sklearn.model_selection import train_test_split\n",
    "from sklearn.metrics import root_mean_squared_error\n",
    "from sklearn.preprocessing import StandardScaler\n",
    "\n",
    "data = pd.read_csv('new_data.csv')\n",
    "atten = pd.read_csv('attendance.csv')\n",
    "# Считаем количество '+' в каждой строке\n",
    "atten_counts = atten.apply(lambda row: str(row).count('+'), axis=1)\n",
    "# Добавляем как новый столбец\n",
    "data['attendance'] = atten_counts\n",
    "indices_list = []\n",
    "with open('school_support.txt', 'r') as file:\n",
    "    indices_list = [int(line.strip()) for line in file]\n",
    "# Создайте новый столбец в DataFrame, проверяя наличие индекса в списке\n",
    "data[\"math_help\"] = np.where(data.index.isin(indices_list), 1, 0)\n",
    "res = pd.read_csv('scores.csv')\n",
    "res = res[data['age'] <= 18]\n",
    "data = data[data['age'] <= 18]\n",
    "\n",
    "scaler = StandardScaler()\n",
    "data_scaled = scaler.fit_transform(data)\n",
    "data = pd.DataFrame(data_scaled, columns=data.columns)\n",
    "\n",
    "model_del = LinearRegression()\n",
    "model_del.fit(data,res)\n",
    "\n",
    "# УДАЛЕНИЕ ОБЪЕКТОВ С ОШИБКОЙ БОЛЕЕ 20%\n",
    "y_pred = model_del.predict(data)\n",
    "errors = np.abs(res.values.flatten() - y_pred.flatten())\n",
    "error_percent = errors / res.values.flatten() * 100\n",
    "\n",
    "# Фильтруем данные (ошибка <= 20%)\n",
    "good_mask = error_percent <= 50\n",
    "data_clean = data[good_mask]\n",
    "res_clean = res[good_mask]\n",
    "\n",
    "\n",
    "X_train, X_test, y_train, y_test = train_test_split(data_clean, res_clean, test_size=0.3, random_state=42)\n",
    "model = LinearRegression()  # Создание экземпляра модели линейной регрессии\n",
    "model.fit(X_train, y_train) # Обучение модели на обучающих данных\n",
    "y_pred = model.predict(X_test)  # Прогнозирование цен на тестовых данных\n",
    "rmse = root_mean_squared_error(y_test, y_pred)  # Расчет RMSE \n",
    "print(f'RMSE модели: {rmse:.10f}')           # Вывод значения ошибки\n"
   ]
  },
  {
   "cell_type": "markdown",
   "metadata": {},
   "source": [
    "### Финальное предсказание\n",
    "\n",
    "Проведите предсказание еще раз и сравните качество с исходным."
   ]
  },
  {
   "cell_type": "code",
   "execution_count": null,
   "metadata": {
    "collapsed": true
   },
   "outputs": [
    {
     "name": "stdout",
     "output_type": "stream",
     "text": [
      "RMSE модели: 10.6823886188\n"
     ]
    },
    {
     "name": "stderr",
     "output_type": "stream",
     "text": [
      "C:\\Users\\user\\AppData\\Local\\Temp\\ipykernel_21100\\272379037.py:35: RuntimeWarning: divide by zero encountered in divide\n",
      "  error_percent = errors / res.values.flatten() * 100\n"
     ]
    }
   ],
   "source": [
    "# в качестве явно некоректных значений уберем школьников, которым больше 18 лет. Ведь данные значения означают, что они оставались на второй год, что может ухудшить наше предсказание\n",
    "\n",
    "import pandas as pd\n",
    "import numpy as np\n",
    "from sklearn.linear_model import LinearRegression       \n",
    "from sklearn.model_selection import train_test_split\n",
    "from sklearn.metrics import root_mean_squared_error\n",
    "from sklearn.preprocessing import StandardScaler\n",
    "\n",
    "data = pd.read_csv('new_data.csv')\n",
    "atten = pd.read_csv('attendance.csv')\n",
    "# Считаем количество '+' в каждой строке\n",
    "atten_counts = atten.apply(lambda row: str(row).count('+'), axis=1)\n",
    "# Добавляем как новый столбец\n",
    "data['attendance'] = atten_counts\n",
    "indices_list = []\n",
    "with open('school_support.txt', 'r') as file:\n",
    "    indices_list = [int(line.strip()) for line in file]\n",
    "# Создайте новый столбец в DataFrame, проверяя наличие индекса в списке\n",
    "data[\"math_help\"] = np.where(data.index.isin(indices_list), 1, 0)\n",
    "res = pd.read_csv('scores.csv')\n",
    "res = res[data['age'] <= 18]\n",
    "data = data[data['age'] <= 18]\n",
    "\n",
    "scaler = StandardScaler()\n",
    "data_scaled = scaler.fit_transform(data)\n",
    "data = pd.DataFrame(data_scaled, columns=data.columns)\n",
    "\n",
    "model_del = LinearRegression()\n",
    "model_del.fit(data,res)\n",
    "\n",
    "# УДАЛЕНИЕ ОБЪЕКТОВ С ОШИБКОЙ БОЛЕЕ 50%\n",
    "y_pred = model_del.predict(data)\n",
    "errors = np.abs(res.values.flatten() - y_pred.flatten())\n",
    "error_percent = errors / res.values.flatten() * 100\n",
    "\n",
    "# Фильтруем данные (ошибка <= 50)\n",
    "good_mask = error_percent <= 50\n",
    "data_clean = data[good_mask]\n",
    "res_clean = res[good_mask]\n",
    "\n",
    "\n",
    "X_train, X_test, y_train, y_test = train_test_split(data_clean, res_clean, test_size=0.3, random_state=42)\n",
    "model = LinearRegression()  # Создание экземпляра модели линейной регрессии\n",
    "model.fit(X_train, y_train) # Обучение модели на обучающих данных\n",
    "y_pred = model.predict(X_test)  # Прогнозирование цен на тестовых данных\n",
    "rmse = root_mean_squared_error(y_test, y_pred)  # Расчет RMSE \n",
    "print(f'RMSE модели: {rmse:.10f}')           # Вывод значения ошибки\n"
   ]
  },
  {
   "cell_type": "markdown",
   "metadata": {},
   "source": [
    "### Вывод\n",
    "Можно заметить, что если убрать из базы данных школьников, которые явно не являются стандартным случаем(школьники остававшиеся на 2 год) то предсказание несколько улучшиться. Если же убрать школьников которые сильно отличаются от других по непонятным характеристикам(на которых наше предстказание работает плохо). То мы сильно улучшим результат, правда непонятно насколько данные после этого будут полными."
   ]
  }
 ],
 "metadata": {
  "kernelspec": {
   "display_name": "base",
   "language": "python",
   "name": "python3"
  },
  "language_info": {
   "codemirror_mode": {
    "name": "ipython",
    "version": 3
   },
   "file_extension": ".py",
   "mimetype": "text/x-python",
   "name": "python",
   "nbconvert_exporter": "python",
   "pygments_lexer": "ipython3",
   "version": "3.13.5"
  }
 },
 "nbformat": 4,
 "nbformat_minor": 2
}
